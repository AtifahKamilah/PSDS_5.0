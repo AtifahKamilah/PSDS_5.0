{
  "nbformat": 4,
  "nbformat_minor": 0,
  "metadata": {
    "colab": {
      "provenance": [],
      "authorship_tag": "ABX9TyPSdTt5DBzBnVmPBwoF0/cl",
      "include_colab_link": true
    },
    "kernelspec": {
      "name": "python3",
      "display_name": "Python 3"
    },
    "language_info": {
      "name": "python"
    }
  },
  "cells": [
    {
      "cell_type": "markdown",
      "metadata": {
        "id": "view-in-github",
        "colab_type": "text"
      },
      "source": [
        "<a href=\"https://colab.research.google.com/github/AtifahKamilah/PSDS_5.0/blob/main/Pengenalan_Python_Pert1.ipynb\" target=\"_parent\"><img src=\"https://colab.research.google.com/assets/colab-badge.svg\" alt=\"Open In Colab\"/></a>"
      ]
    },
    {
      "cell_type": "markdown",
      "source": [
        "# PENGENALAN PYTHON"
      ],
      "metadata": {
        "id": "HSMShhUBlKJh"
      }
    },
    {
      "cell_type": "markdown",
      "source": [
        "Phyton adalah Bahasa pemrograman tingkat tinggi dengan dynamic semantics, bersifat object oriented, dan interpretatif. Bahasa pemrograman ini fokus dikembangkan pada keterbacaan bahasa pemrograman.\n",
        "\n",
        "1.   Bahasa Pemrograman Tingkat Tinggi (High Level Programming) Artinya sintaks kode lebih mudah ditafsirkan oleh manusia.\n",
        "\n",
        "2.   Interpretatif Ini artinya bahasa ini memerlukan intrepeter atau penerjemah. Ini memungkinkan kita untuk menggunakan Bahasa yang lebih mudah kita pahami.\n",
        "\n",
        "3.   Object Oriented Ini berarti bahwa bahasa pemrograman ini berorientasi kepada objek. Hal ini membuat Phyton lebih mudah untuk dikembangkan.\n",
        "\n",
        "4.   Dynamic Semantic Phyton secara otomatis akan menyesuaikan tipe dari suatu variable berdasarkan inputnya.\n",
        "\n"
      ],
      "metadata": {
        "id": "br-WVURRlR0s"
      }
    },
    {
      "cell_type": "markdown",
      "source": [
        "# Mengapa Python?"
      ],
      "metadata": {
        "id": "GdaZwTdblSwq"
      }
    },
    {
      "cell_type": "markdown",
      "source": [
        "1.   Mudah dipahami\n",
        "2.   Grafis & Open Source\n",
        "3.   Dinamis\n",
        "4.   Memiliki Library Terlengkap untuk Data Sains"
      ],
      "metadata": {
        "id": "wEuoS2bDlmye"
      }
    },
    {
      "cell_type": "markdown",
      "source": [
        "# Struktur Program pada Python"
      ],
      "metadata": {
        "id": "xyFO5w9xl2BX"
      }
    },
    {
      "cell_type": "markdown",
      "source": [
        "Python pada umumnya terdiri dari :\n",
        "\n",
        "1.    Statement"
      ],
      "metadata": {
        "id": "fJp-91_el3hI"
      }
    },
    {
      "cell_type": "code",
      "execution_count": 1,
      "metadata": {
        "colab": {
          "base_uri": "https://localhost:8080/",
          "height": 0
        },
        "id": "xeDo6Ws4lHlD",
        "outputId": "4d8913c3-340d-4367-d806-dcd1695b78f8"
      },
      "outputs": [
        {
          "output_type": "stream",
          "name": "stdout",
          "text": [
            "Belajar Python Menyenangkan\n",
            "Hallo Dunia\n"
          ]
        }
      ],
      "source": [
        "print(\"Belajar Python Menyenangkan\")\n",
        "print(\"Hallo Dunia\")"
      ]
    },
    {
      "cell_type": "markdown",
      "source": [
        "2.    Variables"
      ],
      "metadata": {
        "id": "GOex6dAPl-7Q"
      }
    },
    {
      "cell_type": "code",
      "source": [
        "bilangan1 = 5\n",
        "bilangan2 = 10\n",
        "kalimat = \"pejuang data 3\""
      ],
      "metadata": {
        "id": "0QeDFL5amHy_"
      },
      "execution_count": 2,
      "outputs": []
    },
    {
      "cell_type": "markdown",
      "source": [
        "3.    Literals : Simbol-simbol yang dapat kita gunakan untuk mengisi suatu variable.\n",
        "\n",
        "4.    Operators : Simbol-simbol yang dapat digunakan untuk mengubah nilai dari satu variable dengan melibatkan satu atau lebih variable dan literal"
      ],
      "metadata": {
        "id": "OFCtqp1TlJdp"
      }
    },
    {
      "cell_type": "code",
      "source": [
        "bilangan1 + bilangan2"
      ],
      "metadata": {
        "colab": {
          "base_uri": "https://localhost:8080/",
          "height": 0
        },
        "id": "-YQ3DYc-mRA4",
        "outputId": "9f8be6ce-ddea-417b-fe93-619f8bc305ce"
      },
      "execution_count": 3,
      "outputs": [
        {
          "output_type": "execute_result",
          "data": {
            "text/plain": [
              "15"
            ]
          },
          "metadata": {},
          "execution_count": 3
        }
      ]
    },
    {
      "cell_type": "markdown",
      "source": [
        "5.    Reserved Words : Kumpulan kata-kata yang memiliki makna khusus dalam bahasa pemrograman Phyton. Kata false , return , dan for merupakan contoh dari reserved words.\n",
        "\n",
        "6.    Whitespace: Pada bahasa Phyton, spasi dan tab memiliki makna khusus untuk menandai serangkaian blok dalam kode Phyton.\n",
        "\n",
        "7.    Comments : Comments merupakan sekumpulan teks yang dituliskan di dalam sebuah program yang tidak akan mempengaruhi hasil dari sebuah pemrograman. Terdapat dua jenis comments di dalam Phyton, yaitu :\n",
        "\n",
        "a. single line comment (comments dalam satu baris) seperti contoh berikut :"
      ],
      "metadata": {
        "id": "4KggpO4EmPPE"
      }
    },
    {
      "cell_type": "code",
      "source": [
        "# Ini adalah Comment\n",
        "print(\"belajar python\")"
      ],
      "metadata": {
        "colab": {
          "base_uri": "https://localhost:8080/",
          "height": 0
        },
        "id": "u80jgGuEmcjh",
        "outputId": "52bec2f5-40a9-4789-a094-7bad924001bb"
      },
      "execution_count": 4,
      "outputs": [
        {
          "output_type": "stream",
          "name": "stdout",
          "text": [
            "belajar python\n"
          ]
        }
      ]
    },
    {
      "cell_type": "markdown",
      "source": [
        "b. multi line comment (comments dalam beberapa baris) yang dapat dilakukan seperti pada contoh berikut :"
      ],
      "metadata": {
        "id": "yx8nF5XElJSE"
      }
    },
    {
      "cell_type": "code",
      "source": [
        "'''\n",
        "Ini adalah komentar panjang\n",
        "Bisa digunakan untuk memberikan penjelasan\n",
        "panjang pada Sell Kode Phyton,\n",
        "Misal dokumentasi program, spesifikasi\n",
        "input output atau lainnya\n",
        "'''\n",
        "print('Belajar Phyton menyenangkan')\n"
      ],
      "metadata": {
        "colab": {
          "base_uri": "https://localhost:8080/",
          "height": 0
        },
        "id": "sZeh4GF3mkQ7",
        "outputId": "3085705b-83ad-4dfb-f278-28aa15c1805d"
      },
      "execution_count": 5,
      "outputs": [
        {
          "output_type": "stream",
          "name": "stdout",
          "text": [
            "Belajar Phyton menyenangkan\n"
          ]
        }
      ]
    },
    {
      "cell_type": "markdown",
      "source": [],
      "metadata": {
        "id": "_HxQCPOBlJFw"
      }
    }
  ]
}